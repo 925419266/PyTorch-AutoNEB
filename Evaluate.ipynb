{
 "cells": [
  {
   "cell_type": "code",
   "execution_count": null,
   "metadata": {},
   "outputs": [],
   "source": [
    "%load_ext autoreload\n",
    "%autoreload 2"
   ]
  },
  {
   "cell_type": "code",
   "execution_count": null,
   "metadata": {},
   "outputs": [],
   "source": [
    "from torch_autoneb import suggest, config, find_minimum, neb, to_simple_graph, visualise\n",
    "import torch\n",
    "from torch import optim\n",
    "import main\n",
    "import pickle\n",
    "import numpy as np\n",
    "import os\n",
    "import networkx as nx\n",
    "import matplotlib.pyplot as plt\n",
    "import yaml\n",
    "import random\n",
    "%matplotlib inline"
   ]
  },
  {
   "cell_type": "code",
   "execution_count": null,
   "metadata": {},
   "outputs": [],
   "source": [
    "# Replace this path with your own project directory\n",
    "project_directory = \"tmp/dense100,12/\"\n",
    "assert os.path.isdir(project_directory), \"Project directory was not found!\""
   ]
  },
  {
   "cell_type": "code",
   "execution_count": null,
   "metadata": {},
   "outputs": [],
   "source": [
    "# Load config\n",
    "on_device = False\n",
    "config_file = os.path.join(project_directory, \"config.yaml\")\n",
    "model, minima_count, min_config, lex_config = main.read_config_file(config_file, on_device)\n",
    "print(f\"Model has {model.number_of_dimensions} dimensions.\")"
   ]
  },
  {
   "cell_type": "code",
   "execution_count": null,
   "metadata": {},
   "outputs": [],
   "source": [
    "# Load graph\n",
    "with open(os.path.join(project_directory, \"graph.p\"), \"rb\") as file:\n",
    "    graph = pickle.load(file)\n",
    "len(graph.nodes), len(graph.edges)"
   ]
  },
  {
   "cell_type": "code",
   "execution_count": null,
   "metadata": {},
   "outputs": [],
   "source": [
    "simple_graph = to_simple_graph(graph, lex_config.weight_key)#, lex_config.auto_neb_config.cycle_count)\n",
    "len(simple_graph.edges)"
   ]
  },
  {
   "cell_type": "markdown",
   "metadata": {},
   "source": [
    "## Connectivity Graph"
   ]
  },
  {
   "cell_type": "code",
   "execution_count": null,
   "metadata": {},
   "outputs": [],
   "source": [
    "visualise.draw_connectivity_graph(simple_graph, lex_config.value_key, lex_config.weight_key)"
   ]
  },
  {
   "cell_type": "markdown",
   "metadata": {},
   "source": [
    "## Minimum Spanning Tree"
   ]
  },
  {
   "cell_type": "code",
   "execution_count": null,
   "metadata": {},
   "outputs": [],
   "source": [
    "mst = nx.minimum_spanning_tree(simple_graph, lex_config.weight_key)\n",
    "visualise.draw_connectivity_graph(mst, lex_config.value_key, lex_config.weight_key)"
   ]
  },
  {
   "cell_type": "markdown",
   "metadata": {},
   "source": [
    "## Evaluation"
   ]
  },
  {
   "cell_type": "code",
   "execution_count": null,
   "metadata": {},
   "outputs": [],
   "source": [
    "node_values = torch.Tensor([mst.nodes[node][lex_config.value_key] for node in mst.nodes])\n",
    "saddle_values = torch.Tensor([mst.get_edge_data(*edge)[lex_config.weight_key] for edge in mst.edges])"
   ]
  },
  {
   "cell_type": "code",
   "execution_count": null,
   "metadata": {},
   "outputs": [],
   "source": [
    "print(\"Averages over minimum spanning tree:\")\n",
    "print(f\"Minima:  {node_values.mean().item():.4f} ± {node_values.std().item():.4f} ({lex_config.value_key})\")\n",
    "print(f\"Saddles: {saddle_values.mean().item():.4f} ± {saddle_values.std().item():.4f} ({lex_config.weight_key})\")"
   ]
  },
  {
   "cell_type": "markdown",
   "metadata": {},
   "source": [
    "## Loss along MST paths"
   ]
  },
  {
   "cell_type": "code",
   "execution_count": null,
   "metadata": {},
   "outputs": [],
   "source": [
    "for edge in mst.edges:\n",
    "    data = mst.get_edge_data(*edge)[lex_config.weight_key.replace(\"saddle\", \"dense\")]\n",
    "    lengths = mst.get_edge_data(*edge)[\"lengths\"]\n",
    "    visualise.plot_dense(data, lengths, True)\n",
    "plt.ylabel(lex_config.weight_key.replace(\"saddle_\", \"\").replace(\"_\", \" \").title())\n",
    "plt.xticks([0, 1], [\"$\\\\theta_1$\", \"$\\\\theta_2$\"])\n",
    "plt.xlim(-0.05, 1.05)"
   ]
  }
 ],
 "metadata": {
  "kernelspec": {
   "display_name": "Python 3",
   "language": "python",
   "name": "python3"
  },
  "language_info": {
   "codemirror_mode": {
    "name": "ipython",
    "version": 3
   },
   "file_extension": ".py",
   "mimetype": "text/x-python",
   "name": "python",
   "nbconvert_exporter": "python",
   "pygments_lexer": "ipython3",
   "version": "3.6.5"
  }
 },
 "nbformat": 4,
 "nbformat_minor": 2
}
